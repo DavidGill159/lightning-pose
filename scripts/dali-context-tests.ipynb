{
 "cells": [
  {
   "cell_type": "code",
   "execution_count": 1,
   "metadata": {},
   "outputs": [],
   "source": [
    "import cv2\n",
    "from nvidia.dali import pipeline_def\n",
    "import nvidia.dali.fn as fn\n",
    "from nvidia.dali.plugin.pytorch import LastBatchPolicy\n",
    "from nvidia.dali.plugin.pytorch import DALIGenericIterator\n",
    "import nvidia.dali.types as types\n",
    "import torch\n",
    "import numpy as np\n",
    "from tqdm import tqdm\n",
    "from typing import List, Dict, Optional, Union, Literal, Tuple\n",
    "\n",
    "# see https://pytorch.org/vision/stable/models.html\n",
    "_IMAGENET_MEAN = [0.485, 0.456, 0.406]\n",
    "_IMAGENET_STD = [0.229, 0.224, 0.225]"
   ]
  },
  {
   "cell_type": "code",
   "execution_count": 21,
   "metadata": {},
   "outputs": [],
   "source": [
    "@pipeline_def\n",
    "def video_pipe(\n",
    "    filenames: Union[List[str], str],\n",
    "    resize_dims: Optional[List[int]] = None,\n",
    "    random_shuffle: bool = False,\n",
    "    seed: int = 123456,\n",
    "    sequence_length: int = 16,\n",
    "    pad_sequences: bool = True,\n",
    "    initial_fill: int = 16,\n",
    "    normalization_mean: List[float] = _IMAGENET_MEAN,\n",
    "    normalization_std: List[float] = _IMAGENET_STD,\n",
    "    device: str = \"gpu\",\n",
    "    name: str = \"reader\",\n",
    "    step: int = 1,\n",
    "    pad_last_batch: bool = False,\n",
    "    # arguments consumed by decorator:\n",
    "    # batch_size,\n",
    "    # num_threads,\n",
    "    # device_id\n",
    ") -> tuple:\n",
    "    \"\"\"Generic video reader pipeline that loads videos, resizes, augments, and normalizes.\n",
    "\n",
    "    Args:\n",
    "        filenames: list of absolute paths of video files to feed through\n",
    "            pipeline\n",
    "        resize_dims: [height, width] to resize raw frames\n",
    "        random_shuffle: True to grab random batches of frames from videos;\n",
    "            False to sequential read\n",
    "        seed: random seed when `random_shuffle` is True\n",
    "        sequence_length: number of frames to load per sequence\n",
    "        pad_sequences: allows creation of incomplete sequences if there is an\n",
    "            insufficient number of frames at the very end of the video\n",
    "        initial_fill: size of the buffer that is used for random shuffling\n",
    "        normalization_mean: mean values in (0, 1) to subtract from each channel\n",
    "        normalization_std: standard deviation values to subtract from each\n",
    "            channel\n",
    "        device: \"cpu\" | \"gpu\"\n",
    "        name: pipeline name, used to string together DataNode elements\n",
    "        step: number of frames to advance on each read\n",
    "        pad_last_batch\n",
    "\n",
    "    Returns:\n",
    "        pipeline object to be fed to DALIGenericIterator\n",
    "\n",
    "    \"\"\"\n",
    "    video = fn.readers.video(\n",
    "        device=device,\n",
    "        filenames=filenames,\n",
    "        random_shuffle=random_shuffle,\n",
    "        seed=seed,\n",
    "        sequence_length=sequence_length,\n",
    "        step=step,\n",
    "        pad_sequences=pad_sequences,\n",
    "        initial_fill=initial_fill,\n",
    "        normalized=False,\n",
    "        name=name,\n",
    "        dtype=types.DALIDataType.FLOAT,\n",
    "        pad_last_batch=pad_last_batch,  # Important for context loaders\n",
    "        file_list_include_preceding_frame=True,  # to get rid of dali warnings\n",
    "    )\n",
    "    if resize_dims:\n",
    "        video = fn.resize(video, size=resize_dims)\n",
    "    # video pixel range is [0, 255]; transform it to [0, 1].\n",
    "    # happens naturally in the torchvision transform to tensor.\n",
    "    video = video / 255.0\n",
    "    # permute dimensions and normalize to imagenet statistics\n",
    "    transform = fn.crop_mirror_normalize(\n",
    "        video,\n",
    "        output_layout=\"FCHW\",\n",
    "        mean=normalization_mean,\n",
    "        std=normalization_std,\n",
    "    )\n",
    "    return transform\n",
    "\n",
    "\n",
    "def count_frames(video_list: Union[List[str], str]) -> int:\n",
    "    \"\"\"Simple function to count the number of frames in a video or a list of videos.\"\"\"\n",
    "    if isinstance(video_list, str):\n",
    "        video_list = [video_list]\n",
    "    num_frames = 0\n",
    "    for video_file in video_list:\n",
    "        cap = cv2.VideoCapture(video_file)\n",
    "        num_frames += int(cap.get(cv2.CAP_PROP_FRAME_COUNT))\n",
    "        cap.release()\n",
    "\n",
    "    return num_frames\n",
    "\n",
    "\n",
    "class LitDaliWrapper(DALIGenericIterator):\n",
    "    \"\"\"wrapper around a DALI pipeline to get batches for ptl.\"\"\"\n",
    "\n",
    "    def __init__(\n",
    "        self,\n",
    "        *args,\n",
    "        num_iters: int = 1,\n",
    "        **kwargs\n",
    "    ) -> None:\n",
    "        \"\"\"Wrapper around DALIGenericIterator to get batches for pl.\n",
    "\n",
    "        Args:\n",
    "            num_iters: number of enumerations of dataloader (should be computed outside for now;\n",
    "                should be fixed by lightning/dali teams)\n",
    "\n",
    "        \"\"\"\n",
    "        self.num_iters = num_iters\n",
    "        self.batch_sampler = 1  # hack to get around DALI-ptl issue\n",
    "        # call parent\n",
    "        super().__init__(*args, **kwargs)\n",
    "\n",
    "    def __len__(self) -> int:\n",
    "        return self.num_iters\n",
    "\n",
    "    def __next__(self):\n",
    "        return super().__next__()"
   ]
  },
  {
   "attachments": {},
   "cell_type": "markdown",
   "metadata": {},
   "source": [
    "provide a path to some video file for testing -- here is one test video from this repo."
   ]
  },
  {
   "cell_type": "code",
   "execution_count": 3,
   "metadata": {},
   "outputs": [
    {
     "name": "stdout",
     "output_type": "stream",
     "text": [
      "conda\t    figs\t    litpose-data  test_vid_with_fr.mp4\n",
      "datastores  lightning-pose  test.npy\t  work\n"
     ]
    }
   ],
   "source": [
    "!ls /home/jovyan"
   ]
  },
  {
   "cell_type": "code",
   "execution_count": 3,
   "metadata": {},
   "outputs": [],
   "source": [
    "video_file = \"../toy_datasets/toymouseRunningData/unlabeled_videos/test_vid.mp4\""
   ]
  },
  {
   "attachments": {},
   "cell_type": "markdown",
   "metadata": {},
   "source": [
    "## Temporal Context loader\n",
    "Here are we define a pipeline that reads sequences of 5 frames at a time.\n",
    "In practice we have a model that takes 5 frames as input and outputs a pose for the 3rd frame, but we omit the model now."
   ]
  },
  {
   "cell_type": "code",
   "execution_count": 4,
   "metadata": {},
   "outputs": [],
   "source": [
    "\n",
    "# args for context loader\n",
    "pipe_args = {\n",
    "    \"filenames\": video_file,\n",
    "    \"resize_dims\": [64, 64],\n",
    "    \"sequence_length\": 5,\n",
    "    \"step\": 1,\n",
    "    \"batch_size\": 16,\n",
    "    \"num_threads\": 4,\n",
    "    \"device_id\": 0,\n",
    "    \"random_shuffle\": False,\n",
    "    \"device\": \"gpu\",\n",
    "    \"name\": \"reader\",\n",
    "    \"pad_sequences\": True,\n",
    "    \"pad_last_batch\": True,\n",
    "}\n",
    "\n",
    "pipe = video_pipe(**pipe_args)\n",
    "\n",
    "# set up parameters for pytorch iterator\n",
    "frame_count = count_frames(video_file)\n",
    "# taken from https://github.com/danbider/lightning-pose/blob/b66fe34719ec89631f74c6c911a5e1a013bc7e34/lightning_pose/data/dali.py#L237\n",
    "\n",
    "# this is for the base prediction, no context\n",
    "# num_iters = int(np.ceil(frame_count / pipe_args[\"sequence_length\"]))\n",
    "\n",
    "# context loader, different way of calculating num_iters\n",
    "num_iters = int(np.ceil(frame_count / (pipe_args[\"batch_size\"])))\n",
    "\n",
    "iterator_args = {\n",
    "    \"num_iters\": num_iters,\n",
    "    \"output_map\": [\"frames\"],\n",
    "    \"last_batch_policy\": LastBatchPolicy.FILL,\n",
    "    \"auto_reset\": False,\n",
    "    \"reader_name\": \"reader\"\n",
    "}\n"
   ]
  },
  {
   "cell_type": "code",
   "execution_count": 5,
   "metadata": {},
   "outputs": [
    {
     "data": {
      "text/plain": [
       "63"
      ]
     },
     "execution_count": 5,
     "metadata": {},
     "output_type": "execute_result"
    }
   ],
   "source": [
    "num_iters"
   ]
  },
  {
   "cell_type": "code",
   "execution_count": 6,
   "metadata": {},
   "outputs": [],
   "source": [
    "# build iterator\n",
    "iterator = LitDaliWrapper(pipe, **iterator_args)\n"
   ]
  },
  {
   "cell_type": "code",
   "execution_count": 7,
   "metadata": {},
   "outputs": [
    {
     "name": "stderr",
     "output_type": "stream",
     "text": [
      "100%|██████████| 63/63 [00:30<00:00,  2.06it/s]"
     ]
    },
    {
     "name": "stdout",
     "output_type": "stream",
     "text": [
      "Time to iterate over 63 batches: 30.634568452835083\n"
     ]
    },
    {
     "name": "stderr",
     "output_type": "stream",
     "text": [
      "\n"
     ]
    }
   ],
   "source": [
    "# iterate over data\n",
    "from time import time\n",
    "start_time = time()\n",
    "for batch in tqdm(iterator):\n",
    "    shape =batch[0][\"frames\"].shape # we don't print now to avoid cluttering the notebook\n",
    "end_time = time()\n",
    "print(f\"Time to iterate over {num_iters} batches: {end_time - start_time}\")"
   ]
  },
  {
   "cell_type": "code",
   "execution_count": 8,
   "metadata": {},
   "outputs": [],
   "source": [
    "total_time = end_time - start_time\n",
    "time_per_iter = total_time / num_iters"
   ]
  },
  {
   "cell_type": "code",
   "execution_count": 9,
   "metadata": {},
   "outputs": [
    {
     "data": {
      "text/plain": [
       "0.4862629913148426"
      ]
     },
     "execution_count": 9,
     "metadata": {},
     "output_type": "execute_result"
    }
   ],
   "source": [
    "time_per_iter"
   ]
  },
  {
   "attachments": {},
   "cell_type": "markdown",
   "metadata": {},
   "source": [
    "## Base prediction\n",
    "Now define the args for base prediction. Just iterate over sequences until we reach the end of the video. In practice we have a standard resnet waiting for these frames and evaluated in the standard way."
   ]
  },
  {
   "cell_type": "code",
   "execution_count": 34,
   "metadata": {},
   "outputs": [],
   "source": [
    "# video_file = \"/home/jovyan/datastores/mirror-mouse/videos_new/180607_004.mp4\"\n",
    "\n",
    "# frame_count = count_frames(video_file)\n"
   ]
  },
  {
   "cell_type": "code",
   "execution_count": 35,
   "metadata": {},
   "outputs": [],
   "source": [
    "# args for base predict loader\n",
    "pipe_args = {\n",
    "    \"filenames\": video_file,\n",
    "    \"resize_dims\": [64, 64],\n",
    "    \"sequence_length\": 64,\n",
    "    \"step\": 64,\n",
    "    \"batch_size\": 1,\n",
    "    \"num_threads\": 4, # was 4\n",
    "    \"device_id\": 0,\n",
    "    \"random_shuffle\": False,\n",
    "    \"device\": \"gpu\", \n",
    "    \"name\": \"reader\",\n",
    "    \"pad_sequences\": True,\n",
    "}\n",
    "\n",
    "num_iters = int(np.ceil(frame_count / pipe_args[\"sequence_length\"]))\n",
    "\n",
    "# https://github.com/danbider/lightning-pose/blob/0d9c26c42cbddbd16a8f01937d714d221474225d/lightning_pose/data/dali.py#L386\n",
    "iterator_args = {\n",
    "    \"num_iters\": num_iters,\n",
    "    \"output_map\": [\"frames\"],\n",
    "    \"last_batch_policy\": LastBatchPolicy.FILL,\n",
    "    \"last_batch_padded\": False,\n",
    "    \"auto_reset\": False,\n",
    "    \"reader_name\": \"reader\"\n",
    "}"
   ]
  },
  {
   "cell_type": "code",
   "execution_count": 36,
   "metadata": {},
   "outputs": [
    {
     "data": {
      "text/plain": [
       "469"
      ]
     },
     "execution_count": 36,
     "metadata": {},
     "output_type": "execute_result"
    }
   ],
   "source": [
    "num_iters"
   ]
  },
  {
   "cell_type": "code",
   "execution_count": 37,
   "metadata": {},
   "outputs": [],
   "source": [
    "pipe = video_pipe(**pipe_args)"
   ]
  },
  {
   "cell_type": "code",
   "execution_count": 38,
   "metadata": {},
   "outputs": [],
   "source": [
    "# build iterator\n",
    "iterator = LitDaliWrapper(pipe, **iterator_args)\n"
   ]
  },
  {
   "cell_type": "code",
   "execution_count": 39,
   "metadata": {},
   "outputs": [
    {
     "name": "stderr",
     "output_type": "stream",
     "text": [
      "100%|██████████| 469/469 [00:23<00:00, 19.94it/s]"
     ]
    },
    {
     "name": "stdout",
     "output_type": "stream",
     "text": [
      "Time to iterate over 469 batches: 23.523786544799805\n"
     ]
    },
    {
     "name": "stderr",
     "output_type": "stream",
     "text": [
      "\n"
     ]
    }
   ],
   "source": [
    "# iterate over data\n",
    "from time import time\n",
    "start_time = time()\n",
    "for batch in tqdm(iterator):\n",
    "    shape =batch[0][\"frames\"].shape # we don't print now to avoid cluttering the notebook\n",
    "end_time = time()\n",
    "print(f\"Time to iterate over {num_iters} batches: {end_time - start_time}\")"
   ]
  },
  {
   "cell_type": "code",
   "execution_count": 46,
   "metadata": {},
   "outputs": [
    {
     "name": "stdout",
     "output_type": "stream",
     "text": [
      "Time per iteration: 0.050110924726864424\n"
     ]
    }
   ],
   "source": [
    "total_time = end_time - start_time\n",
    "time_per_iter = total_time / num_iters\n",
    "print(f\"Time per iteration: {time_per_iter}\")"
   ]
  },
  {
   "cell_type": "code",
   "execution_count": 21,
   "metadata": {},
   "outputs": [],
   "source": [
    "# 994 // num_iters"
   ]
  },
  {
   "cell_type": "code",
   "execution_count": 20,
   "metadata": {},
   "outputs": [],
   "source": [
    "# import numpy as np"
   ]
  },
  {
   "cell_type": "code",
   "execution_count": 6,
   "metadata": {},
   "outputs": [],
   "source": [
    "# # test saving to .npy file, batch by batch\n",
    "# batch_dims = (64, 2000, 16, 16)\n",
    "# num_batches_to_test = 7\n",
    "# test_filename = \"/home/jovyan/test.npy\"\n",
    "\n",
    "# # create fake data and save on the fly to a single .npy file\n",
    "# with open('test.npy', 'wb') as f:\n",
    "#     for i in range(num_batches_to_test):\n",
    "#         fake_data = np.ones(batch_dims, dtype=np.float16) * i\n",
    "#         np.save(f, fake_data)"
   ]
  },
  {
   "cell_type": "code",
   "execution_count": 19,
   "metadata": {},
   "outputs": [],
   "source": [
    "# # load the data back in\n",
    "# with open('test.npy', 'rb') as f:\n",
    "#     for i in range(num_batches_to_test):\n",
    "#         loaded_data = np.load(f)\n",
    "#         print(loaded_data.shape)\n",
    "#         print(np.unique(loaded_data))"
   ]
  },
  {
   "cell_type": "code",
   "execution_count": 8,
   "metadata": {},
   "outputs": [
    {
     "data": {
      "text/plain": [
       "(64, 2000, 16, 16)"
      ]
     },
     "execution_count": 8,
     "metadata": {},
     "output_type": "execute_result"
    }
   ],
   "source": [
    "# loaded_data.shape"
   ]
  },
  {
   "attachments": {},
   "cell_type": "markdown",
   "metadata": {},
   "source": [
    "# Trying to load context differently. \n",
    "Longer sequences which we chop up into 5 frame sequences within the network.\n",
    "In a sequence of 64 frames, only for the first batch we drop the first two and last two per batch. so step = batch_size - 2"
   ]
  },
  {
   "cell_type": "code",
   "execution_count": 3,
   "metadata": {},
   "outputs": [],
   "source": [
    "video_file = \"/home/jovyan/test_vid_with_fr.mp4\"\n",
    "assert os.path.exists(video_file), f\"Video file {video_file} does not exist\""
   ]
  },
  {
   "cell_type": "code",
   "execution_count": 48,
   "metadata": {},
   "outputs": [],
   "source": [
    "pipe_args = {\n",
    "    \"filenames\": video_file,\n",
    "    \"resize_dims\": [64, 64],\n",
    "    \"sequence_length\": 16,\n",
    "    \"step\": 12,\n",
    "    \"batch_size\": 1,\n",
    "    \"num_threads\": 4, # was 4\n",
    "    \"device_id\": 0,\n",
    "    \"random_shuffle\": False,\n",
    "    \"device\": \"gpu\", \n",
    "    \"name\": \"reader\",\n",
    "    \"pad_sequences\": True,\n",
    "    \"pad_last_batch\": True,\n",
    "}\n",
    "\n",
    "num_iters = 100 # just a number for now int(np.ceil(frame_count / pipe_args[\"sequence_length\"]))\n",
    "\n",
    "iterator_args = {\n",
    "    \"num_iters\": num_iters,\n",
    "    \"output_map\": [\"frames\"],\n",
    "    \"last_batch_policy\": LastBatchPolicy.FILL,\n",
    "    \"auto_reset\": False,\n",
    "    \"reader_name\": \"reader\"\n",
    "}"
   ]
  },
  {
   "cell_type": "code",
   "execution_count": 49,
   "metadata": {},
   "outputs": [],
   "source": [
    "pipe = video_pipe(**pipe_args)"
   ]
  },
  {
   "cell_type": "code",
   "execution_count": 50,
   "metadata": {},
   "outputs": [],
   "source": [
    "iterator = LitDaliWrapper(pipe, **iterator_args)"
   ]
  },
  {
   "cell_type": "code",
   "execution_count": 51,
   "metadata": {},
   "outputs": [],
   "source": [
    "import matplotlib.pyplot as plt\n",
    "def plot_batch_of_seqs(sequences_out):\n",
    "    batch_size = sequences_out.shape[0]\n",
    "    sequence_length = sequences_out.shape[1]\n",
    "    fig, ax = plt.subplots(batch_size, sequence_length, figsize=(15, 9))\n",
    "    for b in range(batch_size):\n",
    "        for s in range(sequence_length):\n",
    "            frame = sequences_out[b, s , 0, :, :]\n",
    "            ax[b,s].imshow(frame)\n",
    "            ax[b,s].axis(\"off\")\n",
    "            ax[b,s].set_title(\"Batch: {}, Frame: {}\".format(b,s))\n",
    "    fig.tight_layout()"
   ]
  },
  {
   "cell_type": "code",
   "execution_count": 52,
   "metadata": {},
   "outputs": [],
   "source": [
    "def plot_sequence(sequences_out):\n",
    "    sequence_length = sequences_out.shape[1]\n",
    "    fig, ax = plt.subplots(1, sequence_length, figsize=(9, 15))\n",
    "    for s in range(sequence_length):\n",
    "        frame = sequences_out[0, s , 0, :, :]\n",
    "        ax[s].imshow(frame)\n",
    "        ax[s].axis(\"off\")\n",
    "        ax[s].set_title(\"Frame: {}\".format(s))\n",
    "    fig.tight_layout()"
   ]
  },
  {
   "cell_type": "code",
   "execution_count": 53,
   "metadata": {},
   "outputs": [
    {
     "name": "stderr",
     "output_type": "stream",
     "text": [
      "  0%|          | 0/100 [00:00<?, ?it/s]"
     ]
    },
    {
     "data": {
      "image/png": "[encoded data removed]",
      "text/plain": [
       "<Figure size 648x1080 with 16 Axes>"
      ]
     },
     "metadata": {
      "needs_background": "light"
     },
     "output_type": "display_data"
    },
    {
     "name": "stderr",
     "output_type": "stream",
     "text": [
      "  1%|          | 1/100 [00:00<01:02,  1.59it/s]"
     ]
    },
    {
     "data": {
      "image/png": "[encoded data removed]",
      "text/plain": [
       "<Figure size 648x1080 with 16 Axes>"
      ]
     },
     "metadata": {
      "needs_background": "light"
     },
     "output_type": "display_data"
    },
    {
     "name": "stderr",
     "output_type": "stream",
     "text": [
      " 83%|████████▎ | 83/100 [00:04<00:00, 19.71it/s]\n"
     ]
    },
    {
     "data": {
      "image/png": "[encoded data removed]",
      "text/plain": [
       "<Figure size 648x1080 with 16 Axes>"
      ]
     },
     "metadata": {
      "needs_background": "light"
     },
     "output_type": "display_data"
    }
   ],
   "source": [
    "from time import time\n",
    "start_time = time()\n",
    "counter = 0\n",
    "for batch in tqdm(iterator):\n",
    "    batch = batch[0][\"frames\"]\n",
    "    if counter == 0 or counter == 1:\n",
    "        plot_sequence(batch.cpu().numpy())\n",
    "        plt.show()\n",
    "    counter += 1\n",
    "    #shape =batch[0][\"frames\"].shape # we don't print now to avoid cluttering the notebook\n",
    "plot_sequence(batch.cpu().numpy())\n",
    "plt.show()\n",
    "end_time = time()\n",
    "#print(f\"Time to iterate over {num_iters} batches: {end_time - start_time}\")"
   ]
  },
  {
   "cell_type": "code",
   "execution_count": 10,
   "metadata": {},
   "outputs": [
    {
     "name": "stdout",
     "output_type": "stream",
     "text": [
      "Total time: 7.188077211380005\n",
      "Time per iteration: 0.07188077211380005\n"
     ]
    }
   ],
   "source": [
    "total_time = end_time - start_time\n",
    "time_per_iter = total_time / num_iters\n",
    "print(f\"Total time: {total_time}\")\n",
    "print(f\"Time per iteration: {time_per_iter}\")"
   ]
  },
  {
   "cell_type": "code",
   "execution_count": 2,
   "metadata": {},
   "outputs": [],
   "source": [
    "import pandas as pd"
   ]
  },
  {
   "cell_type": "code",
   "execution_count": 47,
   "metadata": {},
   "outputs": [
    {
     "name": "stdout",
     "output_type": "stream",
     "text": [
      "(30000, 51)\n"
     ]
    },
    {
     "data": {
      "text/html": [
       "<div>\n",
       "<style scoped>\n",
       "    .dataframe tbody tr th:only-of-type {\n",
       "        vertical-align: middle;\n",
       "    }\n",
       "\n",
       "    .dataframe tbody tr th {\n",
       "        vertical-align: top;\n",
       "    }\n",
       "\n",
       "    .dataframe thead tr th {\n",
       "        text-align: left;\n",
       "    }\n",
       "</style>\n",
       "<table border=\"1\" class=\"dataframe\">\n",
       "  <thead>\n",
       "    <tr>\n",
       "      <th>bodyparts</th>\n",
       "      <th colspan=\"3\" halign=\"left\">paw1LH_top</th>\n",
       "      <th colspan=\"3\" halign=\"left\">paw2LF_top</th>\n",
       "      <th colspan=\"3\" halign=\"left\">paw3RF_top</th>\n",
       "      <th>paw4RH_top</th>\n",
       "      <th>...</th>\n",
       "      <th>tailMid_bot</th>\n",
       "      <th colspan=\"3\" halign=\"left\">nose_bot</th>\n",
       "      <th colspan=\"3\" halign=\"left\">obsHigh_bot</th>\n",
       "      <th colspan=\"3\" halign=\"left\">obsLow_bot</th>\n",
       "    </tr>\n",
       "    <tr>\n",
       "      <th>coords</th>\n",
       "      <th>x</th>\n",
       "      <th>y</th>\n",
       "      <th>likelihood</th>\n",
       "      <th>x</th>\n",
       "      <th>y</th>\n",
       "      <th>likelihood</th>\n",
       "      <th>x</th>\n",
       "      <th>y</th>\n",
       "      <th>likelihood</th>\n",
       "      <th>x</th>\n",
       "      <th>...</th>\n",
       "      <th>likelihood</th>\n",
       "      <th>x</th>\n",
       "      <th>y</th>\n",
       "      <th>likelihood</th>\n",
       "      <th>x</th>\n",
       "      <th>y</th>\n",
       "      <th>likelihood</th>\n",
       "      <th>x</th>\n",
       "      <th>y</th>\n",
       "      <th>likelihood</th>\n",
       "    </tr>\n",
       "  </thead>\n",
       "  <tbody>\n",
       "    <tr>\n",
       "      <th>0</th>\n",
       "      <td>179.324341</td>\n",
       "      <td>102.575119</td>\n",
       "      <td>0.998630</td>\n",
       "      <td>267.713013</td>\n",
       "      <td>101.411926</td>\n",
       "      <td>0.999692</td>\n",
       "      <td>333.237427</td>\n",
       "      <td>99.280617</td>\n",
       "      <td>0.998140</td>\n",
       "      <td>181.200256</td>\n",
       "      <td>...</td>\n",
       "      <td>0.999551</td>\n",
       "      <td>376.897675</td>\n",
       "      <td>282.848816</td>\n",
       "      <td>0.998978</td>\n",
       "      <td>196.766846</td>\n",
       "      <td>189.881332</td>\n",
       "      <td>0.015816</td>\n",
       "      <td>388.803040</td>\n",
       "      <td>396.295380</td>\n",
       "      <td>0.999990</td>\n",
       "    </tr>\n",
       "    <tr>\n",
       "      <th>1</th>\n",
       "      <td>179.324341</td>\n",
       "      <td>102.575119</td>\n",
       "      <td>0.998630</td>\n",
       "      <td>267.713013</td>\n",
       "      <td>101.411926</td>\n",
       "      <td>0.999692</td>\n",
       "      <td>333.237427</td>\n",
       "      <td>99.280617</td>\n",
       "      <td>0.998140</td>\n",
       "      <td>181.200256</td>\n",
       "      <td>...</td>\n",
       "      <td>0.999551</td>\n",
       "      <td>376.897675</td>\n",
       "      <td>282.848816</td>\n",
       "      <td>0.998978</td>\n",
       "      <td>196.766846</td>\n",
       "      <td>189.881332</td>\n",
       "      <td>0.015816</td>\n",
       "      <td>388.803040</td>\n",
       "      <td>396.295380</td>\n",
       "      <td>0.999990</td>\n",
       "    </tr>\n",
       "    <tr>\n",
       "      <th>2</th>\n",
       "      <td>179.324341</td>\n",
       "      <td>102.575119</td>\n",
       "      <td>0.998630</td>\n",
       "      <td>267.713013</td>\n",
       "      <td>101.411926</td>\n",
       "      <td>0.999692</td>\n",
       "      <td>333.237427</td>\n",
       "      <td>99.280617</td>\n",
       "      <td>0.998140</td>\n",
       "      <td>181.200256</td>\n",
       "      <td>...</td>\n",
       "      <td>0.999551</td>\n",
       "      <td>376.897675</td>\n",
       "      <td>282.848816</td>\n",
       "      <td>0.998978</td>\n",
       "      <td>196.766846</td>\n",
       "      <td>189.881332</td>\n",
       "      <td>0.015816</td>\n",
       "      <td>388.803040</td>\n",
       "      <td>396.295380</td>\n",
       "      <td>0.999990</td>\n",
       "    </tr>\n",
       "    <tr>\n",
       "      <th>3</th>\n",
       "      <td>178.828522</td>\n",
       "      <td>102.620384</td>\n",
       "      <td>0.999485</td>\n",
       "      <td>266.869354</td>\n",
       "      <td>101.392746</td>\n",
       "      <td>0.999814</td>\n",
       "      <td>333.564636</td>\n",
       "      <td>101.255745</td>\n",
       "      <td>0.999910</td>\n",
       "      <td>180.439789</td>\n",
       "      <td>...</td>\n",
       "      <td>0.998137</td>\n",
       "      <td>376.792145</td>\n",
       "      <td>282.871460</td>\n",
       "      <td>0.998930</td>\n",
       "      <td>198.509293</td>\n",
       "      <td>188.555054</td>\n",
       "      <td>0.004699</td>\n",
       "      <td>388.774078</td>\n",
       "      <td>396.420105</td>\n",
       "      <td>0.999985</td>\n",
       "    </tr>\n",
       "    <tr>\n",
       "      <th>4</th>\n",
       "      <td>178.178665</td>\n",
       "      <td>102.645569</td>\n",
       "      <td>0.995739</td>\n",
       "      <td>265.564758</td>\n",
       "      <td>101.045143</td>\n",
       "      <td>0.999906</td>\n",
       "      <td>337.079773</td>\n",
       "      <td>101.949860</td>\n",
       "      <td>0.999436</td>\n",
       "      <td>180.739777</td>\n",
       "      <td>...</td>\n",
       "      <td>0.999600</td>\n",
       "      <td>377.098755</td>\n",
       "      <td>282.651611</td>\n",
       "      <td>0.999537</td>\n",
       "      <td>198.253143</td>\n",
       "      <td>188.059113</td>\n",
       "      <td>0.002981</td>\n",
       "      <td>388.777618</td>\n",
       "      <td>396.521606</td>\n",
       "      <td>0.999980</td>\n",
       "    </tr>\n",
       "  </tbody>\n",
       "</table>\n",
       "<p>5 rows × 51 columns</p>\n",
       "</div>"
      ],
      "text/plain": [
       "bodyparts  paw1LH_top                         paw2LF_top              \\\n",
       "coords              x           y likelihood           x           y   \n",
       "0          179.324341  102.575119   0.998630  267.713013  101.411926   \n",
       "1          179.324341  102.575119   0.998630  267.713013  101.411926   \n",
       "2          179.324341  102.575119   0.998630  267.713013  101.411926   \n",
       "3          178.828522  102.620384   0.999485  266.869354  101.392746   \n",
       "4          178.178665  102.645569   0.995739  265.564758  101.045143   \n",
       "\n",
       "bodyparts             paw3RF_top                         paw4RH_top  ...  \\\n",
       "coords    likelihood           x           y likelihood           x  ...   \n",
       "0           0.999692  333.237427   99.280617   0.998140  181.200256  ...   \n",
       "1           0.999692  333.237427   99.280617   0.998140  181.200256  ...   \n",
       "2           0.999692  333.237427   99.280617   0.998140  181.200256  ...   \n",
       "3           0.999814  333.564636  101.255745   0.999910  180.439789  ...   \n",
       "4           0.999906  337.079773  101.949860   0.999436  180.739777  ...   \n",
       "\n",
       "bodyparts tailMid_bot    nose_bot                        obsHigh_bot  \\\n",
       "coords     likelihood           x           y likelihood           x   \n",
       "0            0.999551  376.897675  282.848816   0.998978  196.766846   \n",
       "1            0.999551  376.897675  282.848816   0.998978  196.766846   \n",
       "2            0.999551  376.897675  282.848816   0.998978  196.766846   \n",
       "3            0.998137  376.792145  282.871460   0.998930  198.509293   \n",
       "4            0.999600  377.098755  282.651611   0.999537  198.253143   \n",
       "\n",
       "bodyparts                         obsLow_bot                         \n",
       "coords              y likelihood           x           y likelihood  \n",
       "0          189.881332   0.015816  388.803040  396.295380   0.999990  \n",
       "1          189.881332   0.015816  388.803040  396.295380   0.999990  \n",
       "2          189.881332   0.015816  388.803040  396.295380   0.999990  \n",
       "3          188.555054   0.004699  388.774078  396.420105   0.999985  \n",
       "4          188.059113   0.002981  388.777618  396.521606   0.999980  \n",
       "\n",
       "[5 rows x 51 columns]"
      ]
     },
     "execution_count": 47,
     "metadata": {},
     "output_type": "execute_result"
    }
   ],
   "source": [
    "# read csv file, old and new and compare.\n",
    "# load new csv file \n",
    "# pred_new = pd.read_csv(\"/home/jovyan/predicted_vids/61e11a11-ab65-48fb-ae08-3cb80662e5d6_left_heatmap_mhcrnn_pca_singleview_4.25_temporal_4.0.csv\", index_col=0, header = [1, 2])\n",
    "# pred_new = pd.read_csv(\"/home/jovyan/predicted_vids/mirror-mouse/180609_004_heatmap_mhcrnn_pca_multiview_4.5_pca_singleview_5.0_temporal_4.75.csv\", index_col=0, header = [1, 2])\n",
    "# pred_new = pd.read_csv(\"/home/jovyan/predicted_vids/dfd8e7df-dc51-4589-b6ca-7baccfeb94b4_left_heatmap_mhcrnn_pca_singleview_4.25_temporal_4.0.csv\", index_col=0, header = [1, 2])\n",
    "pred_new = pd.read_csv(\"/home/jovyan/predicted_vids/mirror-mouse-new/180609_000_heatmap_mhcrnn_pca_multiview_4.5_pca_singleview_5.0_temporal_4.75.csv\", index_col=0, header = [1, 2])\n",
    "\n",
    "print(pred_new.shape)\n",
    "pred_new.head()\n"
   ]
  },
  {
   "cell_type": "code",
   "execution_count": 28,
   "metadata": {},
   "outputs": [],
   "source": [
    "# pred_new.shape[0] / 184"
   ]
  },
  {
   "cell_type": "code",
   "execution_count": 48,
   "metadata": {},
   "outputs": [
    {
     "name": "stdout",
     "output_type": "stream",
     "text": [
      "(30000, 51)\n"
     ]
    }
   ],
   "source": [
    "pred_old = pd.read_csv(\"/home/jovyan/predicted_vids/mirror-mouse/180609_000_heatmap_mhcrnn_pca_multiview_4.5_pca_singleview_5.0_temporal_4.75.csv\", index_col=0, header = [1, 2])\n",
    "\n",
    "# pred_old = pd.read_csv(\"/home/jovyan/grid_artifacts/mirror-mouse/strange-spence-2643/strange-spence-2643-exp0/outputs/2023-01-04/21-52-59/video_preds/180609_004.csv\", index_col=0, header = [1, 2])\n",
    "#pred_old = pd.read_csv(\"/home/jovyan/grid_artifacts/ibl-pupil/functional-nightingale-5302/functional-nightingale-5302-exp0/outputs/2023-01-26/18-47-00/video_preds/61e11a11-ab65-48fb-ae08-3cb80662e5d6_left.csv\", index_col=0, header = [1, 2])\n",
    "# pred_old = pd.read_csv(\"/home/jovyan/grid_artifacts/ibl-pupil/functional-nightingale-5302/functional-nightingale-5302-exp0/outputs/2023-01-26/18-47-00/video_preds//dfd8e7df-dc51-4589-b6ca-7baccfeb94b4_left.csv\", index_col=0, header = [1, 2])\n",
    "\n",
    "pred_old.head()\n",
    "print(pred_old.shape)"
   ]
  },
  {
   "cell_type": "code",
   "execution_count": 49,
   "metadata": {},
   "outputs": [],
   "source": [
    "diff_df = pred_new - pred_old"
   ]
  },
  {
   "cell_type": "code",
   "execution_count": 50,
   "metadata": {},
   "outputs": [
    {
     "data": {
      "text/plain": [
       "True"
      ]
     },
     "execution_count": 50,
     "metadata": {},
     "output_type": "execute_result"
    }
   ],
   "source": [
    "# check if old and new are identical to the 6th decimal place\n",
    "import numpy as np\n",
    "np.allclose(pred_old, pred_new, atol=1e-5)"
   ]
  },
  {
   "cell_type": "code",
   "execution_count": 51,
   "metadata": {},
   "outputs": [],
   "source": [
    "import matplotlib.pyplot as plt"
   ]
  },
  {
   "cell_type": "code",
   "execution_count": 111,
   "metadata": {},
   "outputs": [
    {
     "ename": "IndexError",
     "evalue": "list index out of range",
     "output_type": "error",
     "traceback": [
      "\u001b[0;31m---------------------------------------------------------------------------\u001b[0m",
      "\u001b[0;31mIndexError\u001b[0m                                Traceback (most recent call last)",
      "\u001b[1;32m/home/jovyan/lightning-pose/scripts/dali-context-tests.ipynb Cell 42\u001b[0m in \u001b[0;36m<cell line: 1>\u001b[0;34m()\u001b[0m\n\u001b[0;32m----> <a href='vscode-notebook-cell://ssh-remote%2Blp-plotting/home/jovyan/lightning-pose/scripts/dali-context-tests.ipynb#Y103sdnNjb2RlLXJlbW90ZQ%3D%3D?line=0'>1</a>\u001b[0m pred_old\u001b[39m.\u001b[39;49mcolumns\u001b[39m.\u001b[39;49mlevels[\u001b[39m0\u001b[39;49m]\u001b[39m.\u001b[39;49mtolist()[\u001b[39m6\u001b[39;49m]\n",
      "\u001b[0;31mIndexError\u001b[0m: list index out of range"
     ]
    }
   ],
   "source": [
    "pred_old.columns.levels[0].tolist()[6]"
   ]
  },
  {
   "cell_type": "code",
   "execution_count": 9,
   "metadata": {},
   "outputs": [
    {
     "ename": "KeyboardInterrupt",
     "evalue": "",
     "output_type": "error",
     "traceback": [
      "\u001b[0;31m---------------------------------------------------------------------------\u001b[0m",
      "\u001b[0;31mKeyboardInterrupt\u001b[0m                         Traceback (most recent call last)",
      "\u001b[1;32m/home/jovyan/lightning-pose/scripts/dali-context-tests.ipynb Cell 43\u001b[0m in \u001b[0;36m<cell line: 2>\u001b[0;34m()\u001b[0m\n\u001b[1;32m      <a href='vscode-notebook-cell://ssh-remote%2Blp-plotting/home/jovyan/lightning-pose/scripts/dali-context-tests.ipynb#X60sdnNjb2RlLXJlbW90ZQ%3D%3D?line=1'>2</a>\u001b[0m \u001b[39mfor\u001b[39;00m i \u001b[39min\u001b[39;00m \u001b[39mrange\u001b[39m(pred_old\u001b[39m.\u001b[39mshape[\u001b[39m0\u001b[39m]):\n\u001b[1;32m      <a href='vscode-notebook-cell://ssh-remote%2Blp-plotting/home/jovyan/lightning-pose/scripts/dali-context-tests.ipynb#X60sdnNjb2RlLXJlbW90ZQ%3D%3D?line=2'>3</a>\u001b[0m     \u001b[39mfor\u001b[39;00m j \u001b[39min\u001b[39;00m \u001b[39mrange\u001b[39m(pred_old\u001b[39m.\u001b[39mshape[\u001b[39m1\u001b[39m]):\n\u001b[0;32m----> <a href='vscode-notebook-cell://ssh-remote%2Blp-plotting/home/jovyan/lightning-pose/scripts/dali-context-tests.ipynb#X60sdnNjb2RlLXJlbW90ZQ%3D%3D?line=3'>4</a>\u001b[0m         \u001b[39mif\u001b[39;00m \u001b[39mnot\u001b[39;00m np\u001b[39m.\u001b[39;49mallclose(pred_old\u001b[39m.\u001b[39;49miloc[i, j], pred_new\u001b[39m.\u001b[39;49miloc[i, j], atol\u001b[39m=\u001b[39;49m\u001b[39m1e-6\u001b[39;49m):\n\u001b[1;32m      <a href='vscode-notebook-cell://ssh-remote%2Blp-plotting/home/jovyan/lightning-pose/scripts/dali-context-tests.ipynb#X60sdnNjb2RlLXJlbW90ZQ%3D%3D?line=4'>5</a>\u001b[0m             \u001b[39mprint\u001b[39m(i, j)\n\u001b[1;32m      <a href='vscode-notebook-cell://ssh-remote%2Blp-plotting/home/jovyan/lightning-pose/scripts/dali-context-tests.ipynb#X60sdnNjb2RlLXJlbW90ZQ%3D%3D?line=5'>6</a>\u001b[0m             \u001b[39mprint\u001b[39m(pred_old\u001b[39m.\u001b[39miloc[i, j])\n",
      "File \u001b[0;32m<__array_function__ internals>:5\u001b[0m, in \u001b[0;36mallclose\u001b[0;34m(*args, **kwargs)\u001b[0m\n",
      "File \u001b[0;32m~/conda/lib/python3.8/site-packages/numpy/core/numeric.py:2189\u001b[0m, in \u001b[0;36mallclose\u001b[0;34m(a, b, rtol, atol, equal_nan)\u001b[0m\n\u001b[1;32m   2121\u001b[0m \u001b[39m@array_function_dispatch\u001b[39m(_allclose_dispatcher)\n\u001b[1;32m   2122\u001b[0m \u001b[39mdef\u001b[39;00m \u001b[39mallclose\u001b[39m(a, b, rtol\u001b[39m=\u001b[39m\u001b[39m1.e-5\u001b[39m, atol\u001b[39m=\u001b[39m\u001b[39m1.e-8\u001b[39m, equal_nan\u001b[39m=\u001b[39m\u001b[39mFalse\u001b[39;00m):\n\u001b[1;32m   2123\u001b[0m     \u001b[39m\"\"\"\u001b[39;00m\n\u001b[1;32m   2124\u001b[0m \u001b[39m    Returns True if two arrays are element-wise equal within a tolerance.\u001b[39;00m\n\u001b[1;32m   2125\u001b[0m \n\u001b[0;32m   (...)\u001b[0m\n\u001b[1;32m   2187\u001b[0m \n\u001b[1;32m   2188\u001b[0m \u001b[39m    \"\"\"\u001b[39;00m\n\u001b[0;32m-> 2189\u001b[0m     res \u001b[39m=\u001b[39m \u001b[39mall\u001b[39m(isclose(a, b, rtol\u001b[39m=\u001b[39;49mrtol, atol\u001b[39m=\u001b[39;49matol, equal_nan\u001b[39m=\u001b[39;49mequal_nan))\n\u001b[1;32m   2190\u001b[0m     \u001b[39mreturn\u001b[39;00m \u001b[39mbool\u001b[39m(res)\n",
      "File \u001b[0;32m<__array_function__ internals>:5\u001b[0m, in \u001b[0;36misclose\u001b[0;34m(*args, **kwargs)\u001b[0m\n",
      "File \u001b[0;32m~/conda/lib/python3.8/site-packages/numpy/core/numeric.py:2289\u001b[0m, in \u001b[0;36misclose\u001b[0;34m(a, b, rtol, atol, equal_nan)\u001b[0m\n\u001b[1;32m   2287\u001b[0m xfin \u001b[39m=\u001b[39m isfinite(x)\n\u001b[1;32m   2288\u001b[0m yfin \u001b[39m=\u001b[39m isfinite(y)\n\u001b[0;32m-> 2289\u001b[0m \u001b[39mif\u001b[39;00m \u001b[39mall\u001b[39;49m(xfin) \u001b[39mand\u001b[39;00m \u001b[39mall\u001b[39m(yfin):\n\u001b[1;32m   2290\u001b[0m     \u001b[39mreturn\u001b[39;00m within_tol(x, y, atol, rtol)\n\u001b[1;32m   2291\u001b[0m \u001b[39melse\u001b[39;00m:\n",
      "File \u001b[0;32m<__array_function__ internals>:5\u001b[0m, in \u001b[0;36mall\u001b[0;34m(*args, **kwargs)\u001b[0m\n",
      "\u001b[0;31mKeyboardInterrupt\u001b[0m: "
     ]
    }
   ],
   "source": [
    "# find the index and column where the two dataframes are different\n",
    "for i in range(pred_old.shape[0]):\n",
    "    for j in range(pred_old.shape[1]):\n",
    "        if not np.allclose(pred_old.iloc[i, j], pred_new.iloc[i, j], atol=1e-6):\n",
    "            print(i, j)\n",
    "            print(pred_old.iloc[i, j])\n",
    "            print(pred_new.iloc[i, j])\n",
    "            print(\"\")"
   ]
  },
  {
   "cell_type": "code",
   "execution_count": 52,
   "metadata": {},
   "outputs": [
    {
     "data": {
      "text/plain": [
       "[<matplotlib.lines.Line2D at 0x7f11c3fa8970>]"
      ]
     },
     "execution_count": 52,
     "metadata": {},
     "output_type": "execute_result"
    },
    {
     "data": {
      "image/png": "[encoded data removed]",
      "text/plain": [
       "<Figure size 432x288 with 1 Axes>"
      ]
     },
     "metadata": {
      "needs_background": "light"
     },
     "output_type": "display_data"
    }
   ],
   "source": [
    "plt.plot(pred_old[\"paw1LH_top\"][\"x\"][4000:6000])\n",
    "plt.plot(pred_new[\"paw1LH_top\"][\"x\"][4000:6000], linestyle='dotted')"
   ]
  },
  {
   "cell_type": "code",
   "execution_count": 54,
   "metadata": {},
   "outputs": [
    {
     "data": {
      "image/png": "[encoded data removed]",
      "text/plain": [
       "<Figure size 1080x1080 with 20 Axes>"
      ]
     },
     "metadata": {
      "needs_background": "light"
     },
     "output_type": "display_data"
    }
   ],
   "source": [
    "fig, axs = plt.subplots(4, 5, figsize=(15, 15)) # these vals aer for mirror-mouse\n",
    "ax = axs.flatten()\n",
    "for i, col in enumerate(diff_df.columns.levels[0]):\n",
    "    ax[i].plot(diff_df[col][\"x\"], label=\"x\")\n",
    "    ax[i].plot(diff_df[col][\"y\"], label=\"y\")\n",
    "    ax[i].set_xlabel(\"Frame\")\n",
    "    ax[i].set_ylabel(\"new-old\")\n",
    "    ax[i].legend()\n",
    "    # set y limits between -1 and 1\n",
    "    ax[i].set_ylim(-1, 1)\n",
    "    ax[i].set_title(col)\n",
    "fig.tight_layout()"
   ]
  },
  {
   "cell_type": "code",
   "execution_count": 55,
   "metadata": {},
   "outputs": [],
   "source": [
    "video_file = \"/home/jovyan/litpose-data/mirror-mouse/videos_new/180609_000.mp4\"\n",
    "assert os.path.exists(video_file), f\"Video file {video_file} does not exist\"\n"
   ]
  },
  {
   "cell_type": "code",
   "execution_count": 116,
   "metadata": {},
   "outputs": [
    {
     "data": {
      "text/plain": [
       "1000.0"
      ]
     },
     "execution_count": 116,
     "metadata": {},
     "output_type": "execute_result"
    }
   ],
   "source": [
    "frame_count = count_frames(video_file)\n",
    "frame_count / 9.\n"
   ]
  },
  {
   "cell_type": "code",
   "execution_count": 117,
   "metadata": {},
   "outputs": [
    {
     "data": {
      "text/plain": [
       "1.0"
      ]
     },
     "execution_count": 117,
     "metadata": {},
     "output_type": "execute_result"
    }
   ],
   "source": [
    "frame_count / 60 / 150 # divided by fps and 150"
   ]
  },
  {
   "cell_type": "code",
   "execution_count": 13,
   "metadata": {},
   "outputs": [
    {
     "data": {
      "text/plain": [
       "bodyparts       coords    \n",
       "pupil_top_r     x             0.00002\n",
       "                y             0.00002\n",
       "                likelihood    0.00000\n",
       "pupil_right_r   x             0.00003\n",
       "                y             0.00003\n",
       "                likelihood    0.00000\n",
       "pupil_bottom_r  x             0.23874\n",
       "                y             0.12768\n",
       "                likelihood    0.00411\n",
       "pupil_left_r    x             0.00002\n",
       "                y             0.00002\n",
       "                likelihood    0.00000\n",
       "dtype: float64"
      ]
     },
     "execution_count": 13,
     "metadata": {},
     "output_type": "execute_result"
    }
   ],
   "source": [
    "np.max(np.abs(pred_old - pred_new).round(5))"
   ]
  },
  {
   "cell_type": "code",
   "execution_count": 14,
   "metadata": {},
   "outputs": [
    {
     "ename": "AssertionError",
     "evalue": "DataFrame.iloc[:, 6] (column name=\"('pupil_bottom_r', 'x')\") are different\n\nDataFrame.iloc[:, 6] (column name=\"('pupil_bottom_r', 'x')\") values are different (0.01111 %)\n[index]: [0, 1, 2, 3, 4, 5, 6, 7, 8, 9, 10, 11, 12, 13, 14, 15, 16, 17, 18, 19, 20, 21, 22, 23, 24, 25, 26, 27, 28, 29, 30, 31, 32, 33, 34, 35, 36, 37, 38, 39, 40, 41, 42, 43, 44, 45, 46, 47, 48, 49, 50, 51, 52, 53, 54, 55, 56, 57, 58, 59, 60, 61, 62, 63, 64, 65, 66, 67, 68, 69, 70, 71, 72, 73, 74, 75, 76, 77, 78, 79, 80, 81, 82, 83, 84, 85, 86, 87, 88, 89, 90, 91, 92, 93, 94, 95, 96, 97, 98, 99, ...]\n[left]:  [48.48566055297852, 48.48566055297852, 48.48566055297852, 48.583274841308594, 48.65620803833008, 48.68098449707031, 48.60961532592773, 48.59677505493164, 48.516056060791016, 48.47649765014648, 48.4697494506836, 48.45708465576172, 48.60744094848633, 48.58435821533203, 48.61378860473633, 48.65496444702149, 48.69013595581055, 48.70167541503906, 48.85997772216797, 48.83418655395508, 48.96382141113281, 49.00660705566406, 48.9082260131836, 48.90818786621094, 48.716346740722656, 48.63119888305664, 48.591102600097656, 48.5546989440918, 48.6149787902832, 48.91908645629883, 48.95748519897461, 48.52217864990234, 48.32456588745117, 48.15695190429688, 48.213653564453125, 48.20967483520508, 48.40125274658203, 48.5088005065918, 48.45777893066406, 48.2819938659668, 48.88786697387695, 48.94573593139648, 49.1847038269043, 49.17054748535156, 49.02117156982422, 48.72372817993164, 49.40995407104492, 49.918643951416016, 49.2243766784668, 49.206573486328125, 49.0888900756836, 49.11738586425781, 49.1081657409668, 49.05728530883789, 49.00356674194336, 48.92436218261719, 48.87062454223633, 48.8511848449707, 48.83591079711914, 48.67086410522461, 48.655067443847656, 48.45149993896485, 48.67599868774414, 48.59798812866211, 48.553165435791016, 48.503684997558594, 48.48716354370117, 48.49651336669922, 48.47890853881836, 48.46908950805664, 48.47994613647461, 48.47658157348633, 48.43511962890625, 48.38850784301758, 48.334266662597656, 48.30694961547852, 48.29465866088867, 48.33607864379883, 48.39408874511719, 48.47119903564453, 48.49577713012695, 48.491580963134766, 48.51935958862305, 48.63212585449219, 48.668975830078125, 48.66093063354492, 48.56858444213867, 48.55270385742188, 48.57695388793945, 48.5721549987793, 48.641300201416016, 48.58016586303711, 48.62255096435547, 48.62759780883789, 48.66718673706055, 48.60519027709961, 48.62324523925781, 48.62661361694336, 48.644996643066406, 48.64948272705078, ...]\n[right]: [48.485652923583984, 48.485652923583984, 48.485652923583984, 48.58327102661133, 48.656211853027344, 48.68099212646485, 48.60961151123047, 48.59677505493164, 48.51605987548828, 48.47649765014648, 48.46975326538086, 48.45708847045898, 48.60744094848633, 48.58435821533203, 48.6137924194336, 48.654972076416016, 48.690128326416016, 48.70168685913086, 48.85997009277344, 48.83418655395508, 48.96381378173828, 49.006591796875, 48.908233642578125, 48.90818786621094, 48.716346740722656, 48.63119125366211, 48.59109878540039, 48.5546989440918, 48.61497116088867, 48.91908645629883, 48.95747375488281, 48.52217864990234, 48.32456207275391, 48.15695190429688, 48.21364974975586, 48.20967483520508, 48.40125274658203, 48.50880432128906, 48.45777893066406, 48.28199005126953, 48.88786697387695, 48.94572448730469, 49.184696197509766, 49.170555114746094, 49.02117156982422, 48.723724365234375, 49.40995407104492, 49.91865921020508, 49.2243766784668, 49.20656204223633, 49.08889389038086, 49.11738586425781, 49.10816955566406, 49.05728530883789, 49.00355911254883, 48.92436981201172, 48.8706283569336, 48.8511848449707, 48.83591079711914, 48.670860290527344, 48.655067443847656, 48.45149612426758, 48.67599487304688, 48.59798812866211, 48.55316925048828, 48.50367736816406, 48.48716354370117, 48.49651336669922, 48.47890853881836, 48.46909332275391, 48.47994613647461, 48.47658157348633, 48.43511581420898, 48.38851165771485, 48.33425521850586, 48.30694961547852, 48.29467010498047, 48.336082458496094, 48.394081115722656, 48.47119522094727, 48.49577713012695, 48.4915771484375, 48.51936340332031, 48.63212585449219, 48.668975830078125, 48.66093444824219, 48.56858825683594, 48.552711486816406, 48.57695388793945, 48.57215118408203, 48.64129257202149, 48.58015823364258, 48.62255859375, 48.62759780883789, 48.66718673706055, 48.60519027709961, 48.62324142456055, 48.62661361694336, 48.644996643066406, 48.64948272705078, ...]",
     "output_type": "error",
     "traceback": [
      "\u001b[0;31m---------------------------------------------------------------------------\u001b[0m",
      "\u001b[0;31mAssertionError\u001b[0m                            Traceback (most recent call last)",
      "\u001b[1;32m/home/jovyan/lightning-pose/scripts/dali-context-tests.ipynb Cell 50\u001b[0m in \u001b[0;36m<cell line: 2>\u001b[0;34m()\u001b[0m\n\u001b[1;32m      <a href='vscode-notebook-cell://ssh-remote%2Blp-plotting/home/jovyan/lightning-pose/scripts/dali-context-tests.ipynb#Y100sdnNjb2RlLXJlbW90ZQ%3D%3D?line=0'>1</a>\u001b[0m \u001b[39mfrom\u001b[39;00m \u001b[39mpandas\u001b[39;00m\u001b[39m.\u001b[39;00m\u001b[39mtesting\u001b[39;00m \u001b[39mimport\u001b[39;00m assert_frame_equal\n\u001b[0;32m----> <a href='vscode-notebook-cell://ssh-remote%2Blp-plotting/home/jovyan/lightning-pose/scripts/dali-context-tests.ipynb#Y100sdnNjb2RlLXJlbW90ZQ%3D%3D?line=1'>2</a>\u001b[0m assert_frame_equal(pred_old, pred_new)\n",
      "    \u001b[0;31m[... skipping hidden 2 frame]\u001b[0m\n",
      "File \u001b[0;32mpandas/_libs/testing.pyx:46\u001b[0m, in \u001b[0;36mpandas._libs.testing.assert_almost_equal\u001b[0;34m()\u001b[0m\n",
      "File \u001b[0;32mpandas/_libs/testing.pyx:161\u001b[0m, in \u001b[0;36mpandas._libs.testing.assert_almost_equal\u001b[0;34m()\u001b[0m\n",
      "File \u001b[0;32m~/conda/lib/python3.8/site-packages/pandas/_testing.py:1073\u001b[0m, in \u001b[0;36mraise_assert_detail\u001b[0;34m(obj, message, left, right, diff, index_values)\u001b[0m\n\u001b[1;32m   1070\u001b[0m \u001b[39mif\u001b[39;00m diff \u001b[39mis\u001b[39;00m \u001b[39mnot\u001b[39;00m \u001b[39mNone\u001b[39;00m:\n\u001b[1;32m   1071\u001b[0m     msg \u001b[39m+\u001b[39m\u001b[39m=\u001b[39m \u001b[39mf\u001b[39m\u001b[39m\"\u001b[39m\u001b[39m\\n\u001b[39;00m\u001b[39m[diff]: \u001b[39m\u001b[39m{\u001b[39;00mdiff\u001b[39m}\u001b[39;00m\u001b[39m\"\u001b[39m\n\u001b[0;32m-> 1073\u001b[0m \u001b[39mraise\u001b[39;00m \u001b[39mAssertionError\u001b[39;00m(msg)\n",
      "\u001b[0;31mAssertionError\u001b[0m: DataFrame.iloc[:, 6] (column name=\"('pupil_bottom_r', 'x')\") are different\n\nDataFrame.iloc[:, 6] (column name=\"('pupil_bottom_r', 'x')\") values are different (0.01111 %)\n[index]: [0, 1, 2, 3, 4, 5, 6, 7, 8, 9, 10, 11, 12, 13, 14, 15, 16, 17, 18, 19, 20, 21, 22, 23, 24, 25, 26, 27, 28, 29, 30, 31, 32, 33, 34, 35, 36, 37, 38, 39, 40, 41, 42, 43, 44, 45, 46, 47, 48, 49, 50, 51, 52, 53, 54, 55, 56, 57, 58, 59, 60, 61, 62, 63, 64, 65, 66, 67, 68, 69, 70, 71, 72, 73, 74, 75, 76, 77, 78, 79, 80, 81, 82, 83, 84, 85, 86, 87, 88, 89, 90, 91, 92, 93, 94, 95, 96, 97, 98, 99, ...]\n[left]:  [48.48566055297852, 48.48566055297852, 48.48566055297852, 48.583274841308594, 48.65620803833008, 48.68098449707031, 48.60961532592773, 48.59677505493164, 48.516056060791016, 48.47649765014648, 48.4697494506836, 48.45708465576172, 48.60744094848633, 48.58435821533203, 48.61378860473633, 48.65496444702149, 48.69013595581055, 48.70167541503906, 48.85997772216797, 48.83418655395508, 48.96382141113281, 49.00660705566406, 48.9082260131836, 48.90818786621094, 48.716346740722656, 48.63119888305664, 48.591102600097656, 48.5546989440918, 48.6149787902832, 48.91908645629883, 48.95748519897461, 48.52217864990234, 48.32456588745117, 48.15695190429688, 48.213653564453125, 48.20967483520508, 48.40125274658203, 48.5088005065918, 48.45777893066406, 48.2819938659668, 48.88786697387695, 48.94573593139648, 49.1847038269043, 49.17054748535156, 49.02117156982422, 48.72372817993164, 49.40995407104492, 49.918643951416016, 49.2243766784668, 49.206573486328125, 49.0888900756836, 49.11738586425781, 49.1081657409668, 49.05728530883789, 49.00356674194336, 48.92436218261719, 48.87062454223633, 48.8511848449707, 48.83591079711914, 48.67086410522461, 48.655067443847656, 48.45149993896485, 48.67599868774414, 48.59798812866211, 48.553165435791016, 48.503684997558594, 48.48716354370117, 48.49651336669922, 48.47890853881836, 48.46908950805664, 48.47994613647461, 48.47658157348633, 48.43511962890625, 48.38850784301758, 48.334266662597656, 48.30694961547852, 48.29465866088867, 48.33607864379883, 48.39408874511719, 48.47119903564453, 48.49577713012695, 48.491580963134766, 48.51935958862305, 48.63212585449219, 48.668975830078125, 48.66093063354492, 48.56858444213867, 48.55270385742188, 48.57695388793945, 48.5721549987793, 48.641300201416016, 48.58016586303711, 48.62255096435547, 48.62759780883789, 48.66718673706055, 48.60519027709961, 48.62324523925781, 48.62661361694336, 48.644996643066406, 48.64948272705078, ...]\n[right]: [48.485652923583984, 48.485652923583984, 48.485652923583984, 48.58327102661133, 48.656211853027344, 48.68099212646485, 48.60961151123047, 48.59677505493164, 48.51605987548828, 48.47649765014648, 48.46975326538086, 48.45708847045898, 48.60744094848633, 48.58435821533203, 48.6137924194336, 48.654972076416016, 48.690128326416016, 48.70168685913086, 48.85997009277344, 48.83418655395508, 48.96381378173828, 49.006591796875, 48.908233642578125, 48.90818786621094, 48.716346740722656, 48.63119125366211, 48.59109878540039, 48.5546989440918, 48.61497116088867, 48.91908645629883, 48.95747375488281, 48.52217864990234, 48.32456207275391, 48.15695190429688, 48.21364974975586, 48.20967483520508, 48.40125274658203, 48.50880432128906, 48.45777893066406, 48.28199005126953, 48.88786697387695, 48.94572448730469, 49.184696197509766, 49.170555114746094, 49.02117156982422, 48.723724365234375, 49.40995407104492, 49.91865921020508, 49.2243766784668, 49.20656204223633, 49.08889389038086, 49.11738586425781, 49.10816955566406, 49.05728530883789, 49.00355911254883, 48.92436981201172, 48.8706283569336, 48.8511848449707, 48.83591079711914, 48.670860290527344, 48.655067443847656, 48.45149612426758, 48.67599487304688, 48.59798812866211, 48.55316925048828, 48.50367736816406, 48.48716354370117, 48.49651336669922, 48.47890853881836, 48.46909332275391, 48.47994613647461, 48.47658157348633, 48.43511581420898, 48.38851165771485, 48.33425521850586, 48.30694961547852, 48.29467010498047, 48.336082458496094, 48.394081115722656, 48.47119522094727, 48.49577713012695, 48.4915771484375, 48.51936340332031, 48.63212585449219, 48.668975830078125, 48.66093444824219, 48.56858825683594, 48.552711486816406, 48.57695388793945, 48.57215118408203, 48.64129257202149, 48.58015823364258, 48.62255859375, 48.62759780883789, 48.66718673706055, 48.60519027709961, 48.62324142456055, 48.62661361694336, 48.644996643066406, 48.64948272705078, ...]"
     ]
    }
   ],
   "source": [
    "from pandas.testing import assert_frame_equal\n",
    "assert_frame_equal(pred_old, pred_new)"
   ]
  },
  {
   "cell_type": "code",
   "execution_count": 56,
   "metadata": {},
   "outputs": [],
   "source": [
    "from lightning_pose.utils.predictions import create_labeled_video\n",
    "from moviepy.editor import VideoFileClip\n"
   ]
  },
  {
   "cell_type": "code",
   "execution_count": 59,
   "metadata": {},
   "outputs": [
    {
     "name": "stdout",
     "output_type": "stream",
     "text": [
      "Duration of video [s]: 120, recorded with 250.0 fps!\n",
      "Moviepy - Building video /home/jovyan/single_context_pred_test.mp4.\n",
      "Moviepy - Writing video /home/jovyan/single_context_pred_test.mp4\n",
      "\n"
     ]
    },
    {
     "name": "stderr",
     "output_type": "stream",
     "text": [
      "                                                                 \r"
     ]
    },
    {
     "name": "stdout",
     "output_type": "stream",
     "text": [
      "Moviepy - Done !\n",
      "Moviepy - video ready /home/jovyan/single_context_pred_test.mp4\n"
     ]
    }
   ],
   "source": [
    "video_clip = VideoFileClip(video_file)\n",
    "# transform df to numpy array\n",
    "keypoints_arr = np.reshape(pred_new.to_numpy(), [pred_new.shape[0], -1, 3])\n",
    "xs_arr = keypoints_arr[:, :, 0]\n",
    "ys_arr = keypoints_arr[:, :, 1]\n",
    "mask_array = keypoints_arr[:, :, 2] > 0.99\n",
    "# video generation\n",
    "create_labeled_video(\n",
    "    clip=video_clip,\n",
    "    xs_arr=xs_arr,\n",
    "    ys_arr=ys_arr,\n",
    "    dotsize=5,\n",
    "    fps=50,\n",
    "    mask_array=mask_array,\n",
    "    filename=\"/home/jovyan/single_context_pred_test.mp4\",\n",
    ")\n"
   ]
  },
  {
   "cell_type": "code",
   "execution_count": 39,
   "metadata": {},
   "outputs": [
    {
     "data": {
      "text/plain": [
       "(9000, 6)"
      ]
     },
     "execution_count": 39,
     "metadata": {},
     "output_type": "execute_result"
    }
   ],
   "source": [
    "pred_new.to_numpy()[:, 0::2]"
   ]
  },
  {
   "cell_type": "code",
   "execution_count": 45,
   "metadata": {},
   "outputs": [
    {
     "data": {
      "text/html": [
       "<div>\n",
       "<style scoped>\n",
       "    .dataframe tbody tr th:only-of-type {\n",
       "        vertical-align: middle;\n",
       "    }\n",
       "\n",
       "    .dataframe tbody tr th {\n",
       "        vertical-align: top;\n",
       "    }\n",
       "\n",
       "    .dataframe thead tr th {\n",
       "        text-align: left;\n",
       "    }\n",
       "</style>\n",
       "<table border=\"1\" class=\"dataframe\">\n",
       "  <thead>\n",
       "    <tr>\n",
       "      <th>bodyparts</th>\n",
       "      <th colspan=\"3\" halign=\"left\">pupil_top_r</th>\n",
       "      <th colspan=\"3\" halign=\"left\">pupil_right_r</th>\n",
       "      <th colspan=\"3\" halign=\"left\">pupil_bottom_r</th>\n",
       "      <th colspan=\"3\" halign=\"left\">pupil_left_r</th>\n",
       "    </tr>\n",
       "    <tr>\n",
       "      <th>coords</th>\n",
       "      <th>x</th>\n",
       "      <th>y</th>\n",
       "      <th>likelihood</th>\n",
       "      <th>x</th>\n",
       "      <th>y</th>\n",
       "      <th>likelihood</th>\n",
       "      <th>x</th>\n",
       "      <th>y</th>\n",
       "      <th>likelihood</th>\n",
       "      <th>x</th>\n",
       "      <th>y</th>\n",
       "      <th>likelihood</th>\n",
       "    </tr>\n",
       "  </thead>\n",
       "  <tbody>\n",
       "    <tr>\n",
       "      <th>8996</th>\n",
       "      <td>49.413918</td>\n",
       "      <td>43.008102</td>\n",
       "      <td>0.997702</td>\n",
       "      <td>56.405300</td>\n",
       "      <td>51.545315</td>\n",
       "      <td>0.996016</td>\n",
       "      <td>49.084187</td>\n",
       "      <td>60.015690</td>\n",
       "      <td>0.999892</td>\n",
       "      <td>39.716728</td>\n",
       "      <td>51.562065</td>\n",
       "      <td>0.999594</td>\n",
       "    </tr>\n",
       "    <tr>\n",
       "      <th>8997</th>\n",
       "      <td>49.461967</td>\n",
       "      <td>42.908688</td>\n",
       "      <td>0.997558</td>\n",
       "      <td>56.705212</td>\n",
       "      <td>51.199047</td>\n",
       "      <td>0.999644</td>\n",
       "      <td>48.945850</td>\n",
       "      <td>60.117691</td>\n",
       "      <td>0.999845</td>\n",
       "      <td>39.590496</td>\n",
       "      <td>51.261848</td>\n",
       "      <td>0.999685</td>\n",
       "    </tr>\n",
       "    <tr>\n",
       "      <th>8998</th>\n",
       "      <td>49.461967</td>\n",
       "      <td>42.908688</td>\n",
       "      <td>0.997558</td>\n",
       "      <td>56.705212</td>\n",
       "      <td>51.199047</td>\n",
       "      <td>0.999644</td>\n",
       "      <td>48.945850</td>\n",
       "      <td>60.117691</td>\n",
       "      <td>0.999845</td>\n",
       "      <td>39.590496</td>\n",
       "      <td>51.261848</td>\n",
       "      <td>0.999685</td>\n",
       "    </tr>\n",
       "    <tr>\n",
       "      <th>8999</th>\n",
       "      <td>49.461967</td>\n",
       "      <td>42.908688</td>\n",
       "      <td>0.997558</td>\n",
       "      <td>56.705212</td>\n",
       "      <td>51.199047</td>\n",
       "      <td>0.999644</td>\n",
       "      <td>48.945850</td>\n",
       "      <td>60.117691</td>\n",
       "      <td>0.999845</td>\n",
       "      <td>39.590496</td>\n",
       "      <td>51.261848</td>\n",
       "      <td>0.999685</td>\n",
       "    </tr>\n",
       "  </tbody>\n",
       "</table>\n",
       "</div>"
      ],
      "text/plain": [
       "bodyparts pupil_top_r                       pupil_right_r             \\\n",
       "coords              x          y likelihood             x          y   \n",
       "8996        49.413918  43.008102   0.997702     56.405300  51.545315   \n",
       "8997        49.461967  42.908688   0.997558     56.705212  51.199047   \n",
       "8998        49.461967  42.908688   0.997558     56.705212  51.199047   \n",
       "8999        49.461967  42.908688   0.997558     56.705212  51.199047   \n",
       "\n",
       "bodyparts            pupil_bottom_r                       pupil_left_r  \\\n",
       "coords    likelihood              x          y likelihood            x   \n",
       "8996        0.996016      49.084187  60.015690   0.999892    39.716728   \n",
       "8997        0.999644      48.945850  60.117691   0.999845    39.590496   \n",
       "8998        0.999644      48.945850  60.117691   0.999845    39.590496   \n",
       "8999        0.999644      48.945850  60.117691   0.999845    39.590496   \n",
       "\n",
       "bodyparts                        \n",
       "coords             y likelihood  \n",
       "8996       51.562065   0.999594  \n",
       "8997       51.261848   0.999685  \n",
       "8998       51.261848   0.999685  \n",
       "8999       51.261848   0.999685  "
      ]
     },
     "execution_count": 45,
     "metadata": {},
     "output_type": "execute_result"
    }
   ],
   "source": [
    "pred_new[-4:]"
   ]
  },
  {
   "cell_type": "code",
   "execution_count": null,
   "metadata": {},
   "outputs": [],
   "source": [
    "create_labeled_video()"
   ]
  }
 ],
 "metadata": {
  "kernelspec": {
   "display_name": "base",
   "language": "python",
   "name": "python3"
  },
  "language_info": {
   "codemirror_mode": {
    "name": "ipython",
    "version": 3
   },
   "file_extension": ".py",
   "mimetype": "text/x-python",
   "name": "python",
   "nbconvert_exporter": "python",
   "pygments_lexer": "ipython3",
   "version": "3.8.8"
  },
  "orig_nbformat": 4,
  "vscode": {
   "interpreter": {
    "hash": "b2db7ebd2a6eaabbedad5619cf81ba50362feaaec41f65baf0d1ccad0b63e6ce"
   }
  }
 },
 "nbformat": 4,
 "nbformat_minor": 2
}
